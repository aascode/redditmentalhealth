{
 "cells": [
  {
   "cell_type": "raw",
   "metadata": {},
   "source": [
    "This notebook takes the list of usernames generated from a subreddit in Bat 2.\n",
    "Then it gathers each user post history for a year and saves it in a new file.\n",
    "\n"
   ]
  },
  {
   "cell_type": "code",
   "execution_count": 21,
   "metadata": {},
   "outputs": [],
   "source": [
    "import numpy as np\n",
    "import pandas as pd\n",
    "import requests\n",
    "import json\n",
    "import csv\n",
    "import time\n",
    "import datetime\n",
    "import praw\n",
    "import random\n",
    "from itertools import chain, repeat, islice"
   ]
  },
  {
   "cell_type": "code",
   "execution_count": 27,
   "metadata": {},
   "outputs": [],
   "source": [
    "dep=pd.read_csv('Cap/TravelTales.csv', delimiter = ',',encoding='utf-8')\n",
    "dep = dep[dep['Username']!=\"[deleted]\"] \n",
    "dep = dep[dep['Body']!=\"[deleted]\"] \n",
    "dep = dep[dep['Body']!=\"[removed]\"]\n",
    "dep = dep.dropna()\n",
    "dep=dep.drop_duplicates(subset='Author', keep=\"last\")"
   ]
  },
  {
   "cell_type": "code",
   "execution_count": 28,
   "metadata": {},
   "outputs": [],
   "source": [
    "before_date=\"31/12/2019\"\n",
    "after_date=\"01/01/2019\"\n",
    "\n",
    "before = str(int(time.mktime(datetime.datetime.strptime(before_date, \"%d/%m/%Y\").timetuple())))\n",
    "after = str(int(time.mktime(datetime.datetime.strptime(after_date, \"%d/%m/%Y\").timetuple())))"
   ]
  },
  {
   "cell_type": "code",
   "execution_count": 29,
   "metadata": {},
   "outputs": [],
   "source": [
    "usernames= dep['Username'].tolist()\n",
    "rand_user= random.sample(usernames, 500)"
   ]
  },
  {
   "cell_type": "code",
   "execution_count": 30,
   "metadata": {},
   "outputs": [],
   "source": [
    "post_activity = []\n",
    "for a in rand_user:\n",
    "    single_user_posts1=[]\n",
    "    url='https://api.pushshift.io/reddit/search/submission/?after='+str(after)+'&before='+str(before)+'&author='+a\n",
    "    r = requests.get(url)\n",
    "    data = json.loads(r.text)\n",
    "    posts=data['data']\n",
    "    l=len(posts)\n",
    "    for i in range(l):\n",
    "        single_user_posts=[]\n",
    "        single_user_posts.append(a)\n",
    "        #try:\n",
    "        #    single_user_posts.append(posts[i]['id'])\n",
    "        #except KeyError:\n",
    "        #    single_user_posts.append(\"NaN\")\n",
    "        try:\n",
    "            single_user_posts.append(posts[i]['created_utc'])\n",
    "        except KeyError:\n",
    "            single_user_posts.append(\"NaN\")\n",
    "        try:\n",
    "            single_user_posts.append(posts[i]['title']+\".\"+posts[i]['selftext'])\n",
    "        except KeyError:\n",
    "            single_user_posts.append(\"NaN\")\n",
    "        #try: \n",
    "        #    single_user_posts.append(posts[i]['selftext']) \n",
    "        #except KeyError:\n",
    "        #    single_user_posts.append(\"NaN\")\n",
    "        try:\n",
    "            single_user_posts.append(posts[i]['subreddit'])\n",
    "        except KeyError:\n",
    "            single_user_posts.append(\"NaN\")\n",
    "        post_activity.append(single_user_posts)"
   ]
  },
  {
   "cell_type": "code",
   "execution_count": 31,
   "metadata": {},
   "outputs": [],
   "source": [
    "#columns = [\"Username\", 'Time', \"Body\", \"Subreddit\"]\n",
    "df = pd.DataFrame(post_activity)\n",
    "df.to_csv('Cap/oth_his.csv', mode='a', header=False, index = False) "
   ]
  },
  {
   "cell_type": "code",
   "execution_count": null,
   "metadata": {},
   "outputs": [],
   "source": []
  }
 ],
 "metadata": {
  "kernelspec": {
   "display_name": "Python 3",
   "language": "python",
   "name": "python3"
  },
  "language_info": {
   "codemirror_mode": {
    "name": "ipython",
    "version": 3
   },
   "file_extension": ".py",
   "mimetype": "text/x-python",
   "name": "python",
   "nbconvert_exporter": "python",
   "pygments_lexer": "ipython3",
   "version": "3.7.3"
  }
 },
 "nbformat": 4,
 "nbformat_minor": 2
}
