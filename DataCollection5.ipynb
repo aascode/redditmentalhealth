{
 "cells": [
  {
   "cell_type": "raw",
   "metadata": {},
   "source": [
    "Preprocessing the dataset\n",
    "\n",
    "1. Removing deleted posts and Users, and removed posts\n",
    "2. Remove mental illness patients from the non-depression dataset\n",
    "3. Labeling depressed and non-depressed posts\n",
    "4. Combining both the datsets"
   ]
  },
  {
   "cell_type": "code",
   "execution_count": 1,
   "metadata": {},
   "outputs": [],
   "source": [
    "import numpy as np\n",
    "import pandas as pd\n",
    "import requests\n",
    "import json\n",
    "import csv\n",
    "import time\n",
    "import datetime\n",
    "import praw\n",
    "import random\n",
    "from itertools import chain, repeat, islice"
   ]
  },
  {
   "cell_type": "code",
   "execution_count": 2,
   "metadata": {},
   "outputs": [],
   "source": [
    "df2=pd.read_csv('Cap/oth_his.csv', delimiter = ',')\n",
    "df2.insert(4, 'Depressed', 0)\n",
    "df2 = df2[df2['Username']!=\"[deleted]\"] \n",
    "df2 = df2[df2['Body']!=\"[deleted]\"] \n",
    "df2 = df2[df2['Body']!=\"[removed]\"]"
   ]
  },
  {
   "cell_type": "code",
   "execution_count": 3,
   "metadata": {},
   "outputs": [],
   "source": [
    "mi=[\"offmychest\", \"add\", \"cripplingalcoholism\", \"disorder\", \"Health\", \"HealthProject\", \"leaves\", \"MenGetRapedToo\", \n",
    "    \"rapecounseling\", \"7CupsofTea\", \"addiction\", \"ADHD\", \"Advice\", \"affirmations\", \"afterthesilence\", \"Agoraphobia\", \n",
    "    \"AlAnon\", \"alcoholicsanonymous\", \"alcoholism\", \"Anger\", \"Antipsychiatry\", \"Anxiety\", \"Anxietyhelp\", \"anxietysuccess\", \n",
    "    \"anxietysupporters\", \"AskDocs\", \"aspergers\", \"AspiePartners\", \"AtheistTwelveSteppers\", \"behavior\", \"behaviortherapy\", \n",
    "    \"bingeeating\", \"BipolarReddit\", \"BipolarSOs\", \"BodyAcceptance\", \"BPD\", \"bulimia\", \"CompulsiveSkinPicking\", \"dbtselfhelp\", \n",
    "    \"depression\", \"depressionregimens\", \"disability\", \"distractit\", \"domesticviolence\", \"downsyndrome\", \"DysmorphicDisorder\",\n",
    "    \"eating_disorders\", \"EatingDisorderHope\", \"EatingDisorders\", \"emetophobia\", \"EOOD\", \"ForeverAlone\",\"fuckeatingdisorders\", \n",
    "    \"GetMotivated\", \"getting_over_it\", \"GFD\", \"HaveHope\", \"HealthAnxiety\", \"helpmecope\", \"itgetsbetter\", \"leaves\", \n",
    "    \"mentalhealth\", \"mentalillness\", \"mentalpod\", \"mixednuts\", \"MMFB\", \"MSTsurvivors\",  \"needadvice\", \"Needafriend\", \n",
    "    \"neurodiversity\", \"NoFap\", \"nosurf\", \"OCD\", \"OCPD\", \"offmychest\", \"OpiatesRecovery\", \"PanicParty\", \"Phobia\", \n",
    "    \"PsychiatricFreedom\", \"Psychiatry\", \"psychology\", \"psychopathology\", \"psychotherapy\", \"psychotic_features\", \n",
    "    \"psychoticreddit\", \"ptsd\", \"quittingkratom\", \"rape\", \"rapecounseling\", \"reasonstolive\", \"rehabtherapy\", \"sad\", \n",
    "    \"schizoaffective\", \"schizophrenia\", \"secondary_survivors\", \"selfharm\", \"SelfHarmCommunity\", \"selfhelp\", \"siblingsupport\", \n",
    "    \"slp\", \"SMARTRecovery\", \"socialanxiety\", \"socialskills\", \"socialwork\", \"socialworkresources\", \"specialed\", \"StopDipping\", \n",
    "    \"stopdrinking\", \"stopgaming\", \"StopSelfHarm\", \"stopsmoking\", \"SuicideWatch\", \"survivorsofabuse\", \"swami\", \"Teetotal\", \n",
    "    \"TheMixedNuts\", \"tOCD\", \"Tourettes\", \"traumatoolbox\", \"Trichsters\", \"TwoXADHD\", \"uniqueminds\", \"whatsbotheringyou\"\n",
    "   ]"
   ]
  },
  {
   "cell_type": "code",
   "execution_count": 4,
   "metadata": {},
   "outputs": [],
   "source": [
    "li1=[]\n",
    "for i in mi:\n",
    "    li1.append(df2[df2.Subreddit.str.contains(i,na=False)]['Username'].tolist())\n",
    "\n",
    "li= [item for sublist in li1 for item in sublist]\n",
    "li=list(set(li))\n",
    "\n",
    "for i in li:\n",
    "    df2 = df2[df2['Username']!=i] "
   ]
  },
  {
   "cell_type": "code",
   "execution_count": 5,
   "metadata": {},
   "outputs": [
    {
     "data": {
      "text/html": [
       "<div>\n",
       "<style scoped>\n",
       "    .dataframe tbody tr th:only-of-type {\n",
       "        vertical-align: middle;\n",
       "    }\n",
       "\n",
       "    .dataframe tbody tr th {\n",
       "        vertical-align: top;\n",
       "    }\n",
       "\n",
       "    .dataframe thead th {\n",
       "        text-align: right;\n",
       "    }\n",
       "</style>\n",
       "<table border=\"1\" class=\"dataframe\">\n",
       "  <thead>\n",
       "    <tr style=\"text-align: right;\">\n",
       "      <th></th>\n",
       "      <th>Username</th>\n",
       "      <th>Time</th>\n",
       "      <th>Body</th>\n",
       "      <th>Subreddit</th>\n",
       "      <th>Depressed</th>\n",
       "    </tr>\n",
       "  </thead>\n",
       "  <tbody>\n",
       "    <tr>\n",
       "      <th>14</th>\n",
       "      <td>shlagebuk</td>\n",
       "      <td>1552333151</td>\n",
       "      <td>Shaking your head when you're dizzy is like wi...</td>\n",
       "      <td>Showerthoughts</td>\n",
       "      <td>0</td>\n",
       "    </tr>\n",
       "    <tr>\n",
       "      <th>15</th>\n",
       "      <td>shlagebuk</td>\n",
       "      <td>1552355815</td>\n",
       "      <td>If the ancient civilizations often seen in fic...</td>\n",
       "      <td>askscience</td>\n",
       "      <td>0</td>\n",
       "    </tr>\n",
       "    <tr>\n",
       "      <th>16</th>\n",
       "      <td>shlagebuk</td>\n",
       "      <td>1552498519</td>\n",
       "      <td>Call of Duty protagonists vs real-life force f...</td>\n",
       "      <td>whowouldwin</td>\n",
       "      <td>0</td>\n",
       "    </tr>\n",
       "    <tr>\n",
       "      <th>17</th>\n",
       "      <td>Replis</td>\n",
       "      <td>1551870648</td>\n",
       "      <td>If you add the word \"literally..\" in a sentenc...</td>\n",
       "      <td>Showerthoughts</td>\n",
       "      <td>0</td>\n",
       "    </tr>\n",
       "    <tr>\n",
       "      <th>18</th>\n",
       "      <td>Replis</td>\n",
       "      <td>1553958274</td>\n",
       "      <td>Jackie Chan not looking for trouble vs. Batman...</td>\n",
       "      <td>whowouldwin</td>\n",
       "      <td>0</td>\n",
       "    </tr>\n",
       "  </tbody>\n",
       "</table>\n",
       "</div>"
      ],
      "text/plain": [
       "     Username        Time                                               Body  \\\n",
       "14  shlagebuk  1552333151  Shaking your head when you're dizzy is like wi...   \n",
       "15  shlagebuk  1552355815  If the ancient civilizations often seen in fic...   \n",
       "16  shlagebuk  1552498519  Call of Duty protagonists vs real-life force f...   \n",
       "17     Replis  1551870648  If you add the word \"literally..\" in a sentenc...   \n",
       "18     Replis  1553958274  Jackie Chan not looking for trouble vs. Batman...   \n",
       "\n",
       "         Subreddit  Depressed  \n",
       "14  Showerthoughts          0  \n",
       "15      askscience          0  \n",
       "16     whowouldwin          0  \n",
       "17  Showerthoughts          0  \n",
       "18     whowouldwin          0  "
      ]
     },
     "execution_count": 5,
     "metadata": {},
     "output_type": "execute_result"
    }
   ],
   "source": [
    "df2.head()"
   ]
  },
  {
   "cell_type": "code",
   "execution_count": 6,
   "metadata": {},
   "outputs": [],
   "source": [
    "df1=pd.read_csv('Cap/dep_his.csv', delimiter = ',')\n",
    "df1.insert(4, 'Depressed', 1)\n",
    "df1 = df1[df1['Username']!=\"[deleted]\"] \n",
    "df1 = df1[df1['Body']!=\"[deleted]\"] \n",
    "df1 = df1[df1['Body']!=\"[removed]\"]\n",
    "#df1= df1.drop(df1.columns[[4,5,6]], axis=1)"
   ]
  },
  {
   "cell_type": "code",
   "execution_count": 7,
   "metadata": {},
   "outputs": [
    {
     "data": {
      "text/html": [
       "<div>\n",
       "<style scoped>\n",
       "    .dataframe tbody tr th:only-of-type {\n",
       "        vertical-align: middle;\n",
       "    }\n",
       "\n",
       "    .dataframe tbody tr th {\n",
       "        vertical-align: top;\n",
       "    }\n",
       "\n",
       "    .dataframe thead th {\n",
       "        text-align: right;\n",
       "    }\n",
       "</style>\n",
       "<table border=\"1\" class=\"dataframe\">\n",
       "  <thead>\n",
       "    <tr style=\"text-align: right;\">\n",
       "      <th></th>\n",
       "      <th>Username</th>\n",
       "      <th>Time</th>\n",
       "      <th>Body</th>\n",
       "      <th>Subreddit</th>\n",
       "      <th>Depressed</th>\n",
       "    </tr>\n",
       "  </thead>\n",
       "  <tbody>\n",
       "    <tr>\n",
       "      <th>0</th>\n",
       "      <td>smallLoanof1mil</td>\n",
       "      <td>1548785845</td>\n",
       "      <td>What the hell can i do???.I'm so sick of sitti...</td>\n",
       "      <td>depression</td>\n",
       "      <td>1</td>\n",
       "    </tr>\n",
       "    <tr>\n",
       "      <th>1</th>\n",
       "      <td>smallLoanof1mil</td>\n",
       "      <td>1550251560</td>\n",
       "      <td>[TOMT][MOVIE] a surreal movie about 2 guys fro...</td>\n",
       "      <td>tipofmytongue</td>\n",
       "      <td>1</td>\n",
       "    </tr>\n",
       "    <tr>\n",
       "      <th>2</th>\n",
       "      <td>smallLoanof1mil</td>\n",
       "      <td>1550261016</td>\n",
       "      <td>What if the universe isn't expanding and every...</td>\n",
       "      <td>Showerthoughts</td>\n",
       "      <td>1</td>\n",
       "    </tr>\n",
       "    <tr>\n",
       "      <th>3</th>\n",
       "      <td>smallLoanof1mil</td>\n",
       "      <td>1550261801</td>\n",
       "      <td>The universe isn't expanding, everything thing...</td>\n",
       "      <td>Showerthoughts</td>\n",
       "      <td>1</td>\n",
       "    </tr>\n",
       "    <tr>\n",
       "      <th>4</th>\n",
       "      <td>smallLoanof1mil</td>\n",
       "      <td>1550785583</td>\n",
       "      <td>I don't know how much longer i can be in schoo...</td>\n",
       "      <td>ADHD</td>\n",
       "      <td>1</td>\n",
       "    </tr>\n",
       "  </tbody>\n",
       "</table>\n",
       "</div>"
      ],
      "text/plain": [
       "          Username        Time  \\\n",
       "0  smallLoanof1mil  1548785845   \n",
       "1  smallLoanof1mil  1550251560   \n",
       "2  smallLoanof1mil  1550261016   \n",
       "3  smallLoanof1mil  1550261801   \n",
       "4  smallLoanof1mil  1550785583   \n",
       "\n",
       "                                                Body       Subreddit  \\\n",
       "0  What the hell can i do???.I'm so sick of sitti...      depression   \n",
       "1  [TOMT][MOVIE] a surreal movie about 2 guys fro...   tipofmytongue   \n",
       "2  What if the universe isn't expanding and every...  Showerthoughts   \n",
       "3  The universe isn't expanding, everything thing...  Showerthoughts   \n",
       "4  I don't know how much longer i can be in schoo...            ADHD   \n",
       "\n",
       "   Depressed  \n",
       "0          1  \n",
       "1          1  \n",
       "2          1  \n",
       "3          1  \n",
       "4          1  "
      ]
     },
     "execution_count": 7,
     "metadata": {},
     "output_type": "execute_result"
    }
   ],
   "source": [
    "df1.head()"
   ]
  },
  {
   "cell_type": "code",
   "execution_count": 9,
   "metadata": {},
   "outputs": [],
   "source": [
    "df=pd.concat([df1,df2])\n",
    "df=df.sort_values('Username')\n",
    "df.to_csv('Cap/tot_his.csv', index = False) "
   ]
  },
  {
   "cell_type": "code",
   "execution_count": null,
   "metadata": {},
   "outputs": [],
   "source": []
  }
 ],
 "metadata": {
  "kernelspec": {
   "display_name": "Python 3",
   "language": "python",
   "name": "python3"
  },
  "language_info": {
   "codemirror_mode": {
    "name": "ipython",
    "version": 3
   },
   "file_extension": ".py",
   "mimetype": "text/x-python",
   "name": "python",
   "nbconvert_exporter": "python",
   "pygments_lexer": "ipython3",
   "version": "3.7.3"
  }
 },
 "nbformat": 4,
 "nbformat_minor": 2
}
